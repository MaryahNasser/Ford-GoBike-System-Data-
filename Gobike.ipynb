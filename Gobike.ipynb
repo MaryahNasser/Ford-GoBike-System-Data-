{
 "cells": [
  {
   "cell_type": "markdown",
   "metadata": {
    "slideshow": {
     "slide_type": "slide"
    }
   },
   "source": [
    "   # Ford go bike System Data"
   ]
  },
  {
   "cell_type": "code",
   "execution_count": 1,
   "metadata": {
    "slideshow": {
     "slide_type": "skip"
    }
   },
   "outputs": [],
   "source": [
    "#import all needed packages\n",
    "import numpy as np\n",
    "import pandas as pd\n",
    "import matplotlib.pyplot as plt\n",
    "import seaborn as sb\n",
    "\n",
    "\n",
    "%matplotlib inline"
   ]
  },
  {
   "cell_type": "code",
   "execution_count": 2,
   "metadata": {
    "slideshow": {
     "slide_type": "skip"
    }
   },
   "outputs": [],
   "source": [
    "#read CSV file\n",
    "df = pd.read_csv('201902-fordgobike-tripdata.csv')"
   ]
  },
  {
   "cell_type": "code",
   "execution_count": 3,
   "metadata": {
    "slideshow": {
     "slide_type": "skip"
    }
   },
   "outputs": [
    {
     "data": {
      "text/html": [
       "<div>\n",
       "<style scoped>\n",
       "    .dataframe tbody tr th:only-of-type {\n",
       "        vertical-align: middle;\n",
       "    }\n",
       "\n",
       "    .dataframe tbody tr th {\n",
       "        vertical-align: top;\n",
       "    }\n",
       "\n",
       "    .dataframe thead th {\n",
       "        text-align: right;\n",
       "    }\n",
       "</style>\n",
       "<table border=\"1\" class=\"dataframe\">\n",
       "  <thead>\n",
       "    <tr style=\"text-align: right;\">\n",
       "      <th></th>\n",
       "      <th>duration_sec</th>\n",
       "      <th>start_time</th>\n",
       "      <th>end_time</th>\n",
       "      <th>start_station_id</th>\n",
       "      <th>start_station_name</th>\n",
       "      <th>start_station_latitude</th>\n",
       "      <th>start_station_longitude</th>\n",
       "      <th>end_station_id</th>\n",
       "      <th>end_station_name</th>\n",
       "      <th>end_station_latitude</th>\n",
       "      <th>end_station_longitude</th>\n",
       "      <th>bike_id</th>\n",
       "      <th>user_type</th>\n",
       "      <th>member_birth_year</th>\n",
       "      <th>member_gender</th>\n",
       "      <th>bike_share_for_all_trip</th>\n",
       "    </tr>\n",
       "  </thead>\n",
       "  <tbody>\n",
       "    <tr>\n",
       "      <th>183407</th>\n",
       "      <td>480</td>\n",
       "      <td>2019-02-01 00:04:49.7240</td>\n",
       "      <td>2019-02-01 00:12:50.0340</td>\n",
       "      <td>27.0</td>\n",
       "      <td>Beale St at Harrison St</td>\n",
       "      <td>37.788059</td>\n",
       "      <td>-122.391865</td>\n",
       "      <td>324.0</td>\n",
       "      <td>Union Square (Powell St at Post St)</td>\n",
       "      <td>37.788300</td>\n",
       "      <td>-122.408531</td>\n",
       "      <td>4832</td>\n",
       "      <td>Subscriber</td>\n",
       "      <td>1996.0</td>\n",
       "      <td>Male</td>\n",
       "      <td>No</td>\n",
       "    </tr>\n",
       "    <tr>\n",
       "      <th>183408</th>\n",
       "      <td>313</td>\n",
       "      <td>2019-02-01 00:05:34.7440</td>\n",
       "      <td>2019-02-01 00:10:48.5020</td>\n",
       "      <td>21.0</td>\n",
       "      <td>Montgomery St BART Station (Market St at 2nd St)</td>\n",
       "      <td>37.789625</td>\n",
       "      <td>-122.400811</td>\n",
       "      <td>66.0</td>\n",
       "      <td>3rd St at Townsend St</td>\n",
       "      <td>37.778742</td>\n",
       "      <td>-122.392741</td>\n",
       "      <td>4960</td>\n",
       "      <td>Subscriber</td>\n",
       "      <td>1984.0</td>\n",
       "      <td>Male</td>\n",
       "      <td>No</td>\n",
       "    </tr>\n",
       "    <tr>\n",
       "      <th>183409</th>\n",
       "      <td>141</td>\n",
       "      <td>2019-02-01 00:06:05.5490</td>\n",
       "      <td>2019-02-01 00:08:27.2200</td>\n",
       "      <td>278.0</td>\n",
       "      <td>The Alameda at Bush St</td>\n",
       "      <td>37.331932</td>\n",
       "      <td>-121.904888</td>\n",
       "      <td>277.0</td>\n",
       "      <td>Morrison Ave at Julian St</td>\n",
       "      <td>37.333658</td>\n",
       "      <td>-121.908586</td>\n",
       "      <td>3824</td>\n",
       "      <td>Subscriber</td>\n",
       "      <td>1990.0</td>\n",
       "      <td>Male</td>\n",
       "      <td>Yes</td>\n",
       "    </tr>\n",
       "    <tr>\n",
       "      <th>183410</th>\n",
       "      <td>139</td>\n",
       "      <td>2019-02-01 00:05:34.3600</td>\n",
       "      <td>2019-02-01 00:07:54.2870</td>\n",
       "      <td>220.0</td>\n",
       "      <td>San Pablo Ave at MLK Jr Way</td>\n",
       "      <td>37.811351</td>\n",
       "      <td>-122.273422</td>\n",
       "      <td>216.0</td>\n",
       "      <td>San Pablo Ave at 27th St</td>\n",
       "      <td>37.817827</td>\n",
       "      <td>-122.275698</td>\n",
       "      <td>5095</td>\n",
       "      <td>Subscriber</td>\n",
       "      <td>1988.0</td>\n",
       "      <td>Male</td>\n",
       "      <td>No</td>\n",
       "    </tr>\n",
       "    <tr>\n",
       "      <th>183411</th>\n",
       "      <td>271</td>\n",
       "      <td>2019-02-01 00:00:20.6360</td>\n",
       "      <td>2019-02-01 00:04:52.0580</td>\n",
       "      <td>24.0</td>\n",
       "      <td>Spear St at Folsom St</td>\n",
       "      <td>37.789677</td>\n",
       "      <td>-122.390428</td>\n",
       "      <td>37.0</td>\n",
       "      <td>2nd St at Folsom St</td>\n",
       "      <td>37.785000</td>\n",
       "      <td>-122.395936</td>\n",
       "      <td>1057</td>\n",
       "      <td>Subscriber</td>\n",
       "      <td>1989.0</td>\n",
       "      <td>Male</td>\n",
       "      <td>No</td>\n",
       "    </tr>\n",
       "  </tbody>\n",
       "</table>\n",
       "</div>"
      ],
      "text/plain": [
       "        duration_sec                start_time                  end_time  \\\n",
       "183407           480  2019-02-01 00:04:49.7240  2019-02-01 00:12:50.0340   \n",
       "183408           313  2019-02-01 00:05:34.7440  2019-02-01 00:10:48.5020   \n",
       "183409           141  2019-02-01 00:06:05.5490  2019-02-01 00:08:27.2200   \n",
       "183410           139  2019-02-01 00:05:34.3600  2019-02-01 00:07:54.2870   \n",
       "183411           271  2019-02-01 00:00:20.6360  2019-02-01 00:04:52.0580   \n",
       "\n",
       "        start_station_id                                start_station_name  \\\n",
       "183407              27.0                           Beale St at Harrison St   \n",
       "183408              21.0  Montgomery St BART Station (Market St at 2nd St)   \n",
       "183409             278.0                            The Alameda at Bush St   \n",
       "183410             220.0                       San Pablo Ave at MLK Jr Way   \n",
       "183411              24.0                             Spear St at Folsom St   \n",
       "\n",
       "        start_station_latitude  start_station_longitude  end_station_id  \\\n",
       "183407               37.788059              -122.391865           324.0   \n",
       "183408               37.789625              -122.400811            66.0   \n",
       "183409               37.331932              -121.904888           277.0   \n",
       "183410               37.811351              -122.273422           216.0   \n",
       "183411               37.789677              -122.390428            37.0   \n",
       "\n",
       "                           end_station_name  end_station_latitude  \\\n",
       "183407  Union Square (Powell St at Post St)             37.788300   \n",
       "183408                3rd St at Townsend St             37.778742   \n",
       "183409            Morrison Ave at Julian St             37.333658   \n",
       "183410             San Pablo Ave at 27th St             37.817827   \n",
       "183411                  2nd St at Folsom St             37.785000   \n",
       "\n",
       "        end_station_longitude  bike_id   user_type  member_birth_year  \\\n",
       "183407            -122.408531     4832  Subscriber             1996.0   \n",
       "183408            -122.392741     4960  Subscriber             1984.0   \n",
       "183409            -121.908586     3824  Subscriber             1990.0   \n",
       "183410            -122.275698     5095  Subscriber             1988.0   \n",
       "183411            -122.395936     1057  Subscriber             1989.0   \n",
       "\n",
       "       member_gender bike_share_for_all_trip  \n",
       "183407          Male                      No  \n",
       "183408          Male                      No  \n",
       "183409          Male                     Yes  \n",
       "183410          Male                      No  \n",
       "183411          Male                      No  "
      ]
     },
     "execution_count": 3,
     "metadata": {},
     "output_type": "execute_result"
    }
   ],
   "source": [
    "df.tail()"
   ]
  },
  {
   "cell_type": "code",
   "execution_count": 4,
   "metadata": {
    "slideshow": {
     "slide_type": "skip"
    }
   },
   "outputs": [
    {
     "name": "stdout",
     "output_type": "stream",
     "text": [
      "<class 'pandas.core.frame.DataFrame'>\n",
      "RangeIndex: 183412 entries, 0 to 183411\n",
      "Data columns (total 16 columns):\n",
      " #   Column                   Non-Null Count   Dtype  \n",
      "---  ------                   --------------   -----  \n",
      " 0   duration_sec             183412 non-null  int64  \n",
      " 1   start_time               183412 non-null  object \n",
      " 2   end_time                 183412 non-null  object \n",
      " 3   start_station_id         183215 non-null  float64\n",
      " 4   start_station_name       183215 non-null  object \n",
      " 5   start_station_latitude   183412 non-null  float64\n",
      " 6   start_station_longitude  183412 non-null  float64\n",
      " 7   end_station_id           183215 non-null  float64\n",
      " 8   end_station_name         183215 non-null  object \n",
      " 9   end_station_latitude     183412 non-null  float64\n",
      " 10  end_station_longitude    183412 non-null  float64\n",
      " 11  bike_id                  183412 non-null  int64  \n",
      " 12  user_type                183412 non-null  object \n",
      " 13  member_birth_year        175147 non-null  float64\n",
      " 14  member_gender            175147 non-null  object \n",
      " 15  bike_share_for_all_trip  183412 non-null  object \n",
      "dtypes: float64(7), int64(2), object(7)\n",
      "memory usage: 22.4+ MB\n"
     ]
    }
   ],
   "source": [
    "df.info()"
   ]
  },
  {
   "cell_type": "code",
   "execution_count": 5,
   "metadata": {
    "slideshow": {
     "slide_type": "skip"
    }
   },
   "outputs": [
    {
     "data": {
      "text/plain": [
       "duration_sec                  0\n",
       "start_time                    0\n",
       "end_time                      0\n",
       "start_station_id            197\n",
       "start_station_name          197\n",
       "start_station_latitude        0\n",
       "start_station_longitude       0\n",
       "end_station_id              197\n",
       "end_station_name            197\n",
       "end_station_latitude          0\n",
       "end_station_longitude         0\n",
       "bike_id                       0\n",
       "user_type                     0\n",
       "member_birth_year          8265\n",
       "member_gender              8265\n",
       "bike_share_for_all_trip       0\n",
       "dtype: int64"
      ]
     },
     "execution_count": 5,
     "metadata": {},
     "output_type": "execute_result"
    }
   ],
   "source": [
    "df.isnull().sum()"
   ]
  },
  {
   "cell_type": "markdown",
   "metadata": {
    "slideshow": {
     "slide_type": "skip"
    }
   },
   "source": [
    "# Data wrangling"
   ]
  },
  {
   "cell_type": "markdown",
   "metadata": {
    "slideshow": {
     "slide_type": "skip"
    }
   },
   "source": [
    "**First, i changed the data type for start_time,end_time to datetime**"
   ]
  },
  {
   "cell_type": "code",
   "execution_count": 6,
   "metadata": {
    "slideshow": {
     "slide_type": "skip"
    }
   },
   "outputs": [],
   "source": [
    "df['start_time'] = pd.to_datetime(df['start_time'])"
   ]
  },
  {
   "cell_type": "code",
   "execution_count": 7,
   "metadata": {
    "slideshow": {
     "slide_type": "skip"
    }
   },
   "outputs": [],
   "source": [
    "df['end_time'] = pd.to_datetime(df['end_time'])"
   ]
  },
  {
   "cell_type": "markdown",
   "metadata": {
    "slideshow": {
     "slide_type": "skip"
    }
   },
   "source": [
    "**I added new column for age. The values in there were calucated on the basis of data collection year which is 2019** "
   ]
  },
  {
   "cell_type": "code",
   "execution_count": 8,
   "metadata": {
    "slideshow": {
     "slide_type": "skip"
    }
   },
   "outputs": [],
   "source": [
    "df['Age'] = 2019 - df['member_birth_year']"
   ]
  },
  {
   "cell_type": "code",
   "execution_count": 9,
   "metadata": {
    "slideshow": {
     "slide_type": "skip"
    }
   },
   "outputs": [
    {
     "data": {
      "text/plain": [
       "31.0     10236\n",
       "26.0      9325\n",
       "30.0      8972\n",
       "29.0      8658\n",
       "28.0      8498\n",
       "         ...  \n",
       "89.0         1\n",
       "92.0         1\n",
       "91.0         1\n",
       "109.0        1\n",
       "141.0        1\n",
       "Name: Age, Length: 75, dtype: int64"
      ]
     },
     "execution_count": 9,
     "metadata": {},
     "output_type": "execute_result"
    }
   ],
   "source": [
    "df['Age'].value_counts()"
   ]
  },
  {
   "cell_type": "code",
   "execution_count": 10,
   "metadata": {
    "slideshow": {
     "slide_type": "skip"
    }
   },
   "outputs": [
    {
     "data": {
      "text/plain": [
       "2019-02-01 13:40:09.492    2\n",
       "2019-02-11 17:05:07.840    2\n",
       "2019-02-19 17:52:44.175    2\n",
       "2019-02-01 18:24:34.874    2\n",
       "2019-02-22 20:11:42.256    2\n",
       "                          ..\n",
       "2019-02-22 08:46:15.436    1\n",
       "2019-02-19 17:29:08.242    1\n",
       "2019-02-11 10:24:37.610    1\n",
       "2019-02-20 08:02:52.933    1\n",
       "2019-02-15 07:01:31.319    1\n",
       "Name: start_time, Length: 183401, dtype: int64"
      ]
     },
     "execution_count": 10,
     "metadata": {},
     "output_type": "execute_result"
    }
   ],
   "source": [
    "df['start_time'].value_counts()"
   ]
  },
  {
   "cell_type": "code",
   "execution_count": 11,
   "metadata": {
    "slideshow": {
     "slide_type": "skip"
    }
   },
   "outputs": [],
   "source": [
    "#adding duration in hours column\n",
    "df['duration_hours'] = df['duration_sec']/3600"
   ]
  },
  {
   "cell_type": "code",
   "execution_count": 12,
   "metadata": {
    "slideshow": {
     "slide_type": "skip"
    }
   },
   "outputs": [
    {
     "data": {
      "text/plain": [
       "0    14.495833\n",
       "1    11.811389\n",
       "2    17.181667\n",
       "3    10.136111\n",
       "4     0.440278\n",
       "Name: duration_hours, dtype: float64"
      ]
     },
     "execution_count": 12,
     "metadata": {},
     "output_type": "execute_result"
    }
   ],
   "source": [
    "df['duration_hours'].head()"
   ]
  },
  {
   "cell_type": "code",
   "execution_count": 13,
   "metadata": {
    "slideshow": {
     "slide_type": "skip"
    }
   },
   "outputs": [],
   "source": [
    "#time to hour convertion\n",
    "df['start_hour'] = df['start_time'].apply(lambda time: time.hour)"
   ]
  },
  {
   "cell_type": "code",
   "execution_count": 14,
   "metadata": {
    "slideshow": {
     "slide_type": "skip"
    }
   },
   "outputs": [
    {
     "data": {
      "text/plain": [
       "17    21864\n",
       "8     21056\n",
       "18    16827\n",
       "9     15903\n",
       "16    14169\n",
       "7     10614\n",
       "19     9881\n",
       "15     9174\n",
       "12     8724\n",
       "13     8551\n",
       "10     8364\n",
       "14     8152\n",
       "11     7884\n",
       "20     6482\n",
       "21     4561\n",
       "6      3485\n",
       "22     2916\n",
       "23     1646\n",
       "0       925\n",
       "5       896\n",
       "1       548\n",
       "2       381\n",
       "4       235\n",
       "3       174\n",
       "Name: start_hour, dtype: int64"
      ]
     },
     "execution_count": 14,
     "metadata": {},
     "output_type": "execute_result"
    }
   ],
   "source": [
    "df['start_hour'].value_counts()"
   ]
  },
  {
   "cell_type": "code",
   "execution_count": 15,
   "metadata": {
    "slideshow": {
     "slide_type": "skip"
    }
   },
   "outputs": [],
   "source": [
    "df['end_hour'] = df['end_time'].apply(lambda time: time.hour)"
   ]
  },
  {
   "cell_type": "markdown",
   "metadata": {
    "slideshow": {
     "slide_type": "skip"
    }
   },
   "source": [
    "**Add new column for period of day**"
   ]
  },
  {
   "cell_type": "code",
   "execution_count": 16,
   "metadata": {
    "slideshow": {
     "slide_type": "skip"
    }
   },
   "outputs": [],
   "source": [
    "#Define bins as 0 to 11, 12 to 18 ,19 to 23\n",
    "bins = [-1,11,18,23]\n",
    "#assign names for the three periods\n",
    "group_names =['morning','afternoon','night']\n",
    "df['period_day'] = pd.cut(df['start_hour'], bins , labels = group_names)"
   ]
  },
  {
   "cell_type": "code",
   "execution_count": 17,
   "metadata": {
    "slideshow": {
     "slide_type": "skip"
    }
   },
   "outputs": [
    {
     "data": {
      "text/plain": [
       "afternoon    87461\n",
       "morning      70465\n",
       "night        25486\n",
       "Name: period_day, dtype: int64"
      ]
     },
     "execution_count": 17,
     "metadata": {},
     "output_type": "execute_result"
    }
   ],
   "source": [
    "#test \n",
    "df['period_day'].value_counts()"
   ]
  },
  {
   "cell_type": "markdown",
   "metadata": {
    "slideshow": {
     "slide_type": "skip"
    }
   },
   "source": [
    "**Add new column for number of week for the month menioned**"
   ]
  },
  {
   "cell_type": "code",
   "execution_count": 18,
   "metadata": {
    "slideshow": {
     "slide_type": "skip"
    }
   },
   "outputs": [],
   "source": [
    "#extract date from start_time\n",
    "df['day'] = df['start_time'].dt.strftime('%d')"
   ]
  },
  {
   "cell_type": "code",
   "execution_count": 19,
   "metadata": {
    "slideshow": {
     "slide_type": "skip"
    }
   },
   "outputs": [],
   "source": [
    "#convert day column from object to int\n",
    "df['day'] = df['day'].astype(int)"
   ]
  },
  {
   "cell_type": "code",
   "execution_count": 20,
   "metadata": {
    "slideshow": {
     "slide_type": "notes"
    }
   },
   "outputs": [],
   "source": [
    "#Define bins as 1 to 7, 8 to 15 , 16 to 23 , 24 to 28\n",
    "d_bins = [0,7,15,23,28]\n",
    "names = ['week1','week2','week3','week4']\n",
    "df['week_num'] = pd.cut(df['day'], d_bins , labels = names)"
   ]
  },
  {
   "cell_type": "code",
   "execution_count": 21,
   "metadata": {
    "slideshow": {
     "slide_type": "skip"
    }
   },
   "outputs": [
    {
     "data": {
      "text/html": [
       "<div>\n",
       "<style scoped>\n",
       "    .dataframe tbody tr th:only-of-type {\n",
       "        vertical-align: middle;\n",
       "    }\n",
       "\n",
       "    .dataframe tbody tr th {\n",
       "        vertical-align: top;\n",
       "    }\n",
       "\n",
       "    .dataframe thead th {\n",
       "        text-align: right;\n",
       "    }\n",
       "</style>\n",
       "<table border=\"1\" class=\"dataframe\">\n",
       "  <thead>\n",
       "    <tr style=\"text-align: right;\">\n",
       "      <th></th>\n",
       "      <th>duration_sec</th>\n",
       "      <th>start_time</th>\n",
       "      <th>end_time</th>\n",
       "      <th>start_station_id</th>\n",
       "      <th>start_station_name</th>\n",
       "      <th>start_station_latitude</th>\n",
       "      <th>start_station_longitude</th>\n",
       "      <th>end_station_id</th>\n",
       "      <th>end_station_name</th>\n",
       "      <th>end_station_latitude</th>\n",
       "      <th>...</th>\n",
       "      <th>member_birth_year</th>\n",
       "      <th>member_gender</th>\n",
       "      <th>bike_share_for_all_trip</th>\n",
       "      <th>Age</th>\n",
       "      <th>duration_hours</th>\n",
       "      <th>start_hour</th>\n",
       "      <th>end_hour</th>\n",
       "      <th>period_day</th>\n",
       "      <th>day</th>\n",
       "      <th>week_num</th>\n",
       "    </tr>\n",
       "  </thead>\n",
       "  <tbody>\n",
       "    <tr>\n",
       "      <th>0</th>\n",
       "      <td>52185</td>\n",
       "      <td>2019-02-28 17:32:10.145</td>\n",
       "      <td>2019-03-01 08:01:55.975</td>\n",
       "      <td>21.0</td>\n",
       "      <td>Montgomery St BART Station (Market St at 2nd St)</td>\n",
       "      <td>37.789625</td>\n",
       "      <td>-122.400811</td>\n",
       "      <td>13.0</td>\n",
       "      <td>Commercial St at Montgomery St</td>\n",
       "      <td>37.794231</td>\n",
       "      <td>...</td>\n",
       "      <td>1984.0</td>\n",
       "      <td>Male</td>\n",
       "      <td>No</td>\n",
       "      <td>35.0</td>\n",
       "      <td>14.495833</td>\n",
       "      <td>17</td>\n",
       "      <td>8</td>\n",
       "      <td>afternoon</td>\n",
       "      <td>28</td>\n",
       "      <td>week4</td>\n",
       "    </tr>\n",
       "    <tr>\n",
       "      <th>1</th>\n",
       "      <td>42521</td>\n",
       "      <td>2019-02-28 18:53:21.789</td>\n",
       "      <td>2019-03-01 06:42:03.056</td>\n",
       "      <td>23.0</td>\n",
       "      <td>The Embarcadero at Steuart St</td>\n",
       "      <td>37.791464</td>\n",
       "      <td>-122.391034</td>\n",
       "      <td>81.0</td>\n",
       "      <td>Berry St at 4th St</td>\n",
       "      <td>37.775880</td>\n",
       "      <td>...</td>\n",
       "      <td>NaN</td>\n",
       "      <td>NaN</td>\n",
       "      <td>No</td>\n",
       "      <td>NaN</td>\n",
       "      <td>11.811389</td>\n",
       "      <td>18</td>\n",
       "      <td>6</td>\n",
       "      <td>afternoon</td>\n",
       "      <td>28</td>\n",
       "      <td>week4</td>\n",
       "    </tr>\n",
       "    <tr>\n",
       "      <th>2</th>\n",
       "      <td>61854</td>\n",
       "      <td>2019-02-28 12:13:13.218</td>\n",
       "      <td>2019-03-01 05:24:08.146</td>\n",
       "      <td>86.0</td>\n",
       "      <td>Market St at Dolores St</td>\n",
       "      <td>37.769305</td>\n",
       "      <td>-122.426826</td>\n",
       "      <td>3.0</td>\n",
       "      <td>Powell St BART Station (Market St at 4th St)</td>\n",
       "      <td>37.786375</td>\n",
       "      <td>...</td>\n",
       "      <td>1972.0</td>\n",
       "      <td>Male</td>\n",
       "      <td>No</td>\n",
       "      <td>47.0</td>\n",
       "      <td>17.181667</td>\n",
       "      <td>12</td>\n",
       "      <td>5</td>\n",
       "      <td>afternoon</td>\n",
       "      <td>28</td>\n",
       "      <td>week4</td>\n",
       "    </tr>\n",
       "    <tr>\n",
       "      <th>3</th>\n",
       "      <td>36490</td>\n",
       "      <td>2019-02-28 17:54:26.010</td>\n",
       "      <td>2019-03-01 04:02:36.842</td>\n",
       "      <td>375.0</td>\n",
       "      <td>Grove St at Masonic Ave</td>\n",
       "      <td>37.774836</td>\n",
       "      <td>-122.446546</td>\n",
       "      <td>70.0</td>\n",
       "      <td>Central Ave at Fell St</td>\n",
       "      <td>37.773311</td>\n",
       "      <td>...</td>\n",
       "      <td>1989.0</td>\n",
       "      <td>Other</td>\n",
       "      <td>No</td>\n",
       "      <td>30.0</td>\n",
       "      <td>10.136111</td>\n",
       "      <td>17</td>\n",
       "      <td>4</td>\n",
       "      <td>afternoon</td>\n",
       "      <td>28</td>\n",
       "      <td>week4</td>\n",
       "    </tr>\n",
       "    <tr>\n",
       "      <th>4</th>\n",
       "      <td>1585</td>\n",
       "      <td>2019-02-28 23:54:18.549</td>\n",
       "      <td>2019-03-01 00:20:44.074</td>\n",
       "      <td>7.0</td>\n",
       "      <td>Frank H Ogawa Plaza</td>\n",
       "      <td>37.804562</td>\n",
       "      <td>-122.271738</td>\n",
       "      <td>222.0</td>\n",
       "      <td>10th Ave at E 15th St</td>\n",
       "      <td>37.792714</td>\n",
       "      <td>...</td>\n",
       "      <td>1974.0</td>\n",
       "      <td>Male</td>\n",
       "      <td>Yes</td>\n",
       "      <td>45.0</td>\n",
       "      <td>0.440278</td>\n",
       "      <td>23</td>\n",
       "      <td>0</td>\n",
       "      <td>night</td>\n",
       "      <td>28</td>\n",
       "      <td>week4</td>\n",
       "    </tr>\n",
       "    <tr>\n",
       "      <th>5</th>\n",
       "      <td>1793</td>\n",
       "      <td>2019-02-28 23:49:58.632</td>\n",
       "      <td>2019-03-01 00:19:51.760</td>\n",
       "      <td>93.0</td>\n",
       "      <td>4th St at Mission Bay Blvd S</td>\n",
       "      <td>37.770407</td>\n",
       "      <td>-122.391198</td>\n",
       "      <td>323.0</td>\n",
       "      <td>Broadway at Kearny</td>\n",
       "      <td>37.798014</td>\n",
       "      <td>...</td>\n",
       "      <td>1959.0</td>\n",
       "      <td>Male</td>\n",
       "      <td>No</td>\n",
       "      <td>60.0</td>\n",
       "      <td>0.498056</td>\n",
       "      <td>23</td>\n",
       "      <td>0</td>\n",
       "      <td>night</td>\n",
       "      <td>28</td>\n",
       "      <td>week4</td>\n",
       "    </tr>\n",
       "    <tr>\n",
       "      <th>6</th>\n",
       "      <td>1147</td>\n",
       "      <td>2019-02-28 23:55:35.104</td>\n",
       "      <td>2019-03-01 00:14:42.588</td>\n",
       "      <td>300.0</td>\n",
       "      <td>Palm St at Willow St</td>\n",
       "      <td>37.317298</td>\n",
       "      <td>-121.884995</td>\n",
       "      <td>312.0</td>\n",
       "      <td>San Jose Diridon Station</td>\n",
       "      <td>37.329732</td>\n",
       "      <td>...</td>\n",
       "      <td>1983.0</td>\n",
       "      <td>Female</td>\n",
       "      <td>No</td>\n",
       "      <td>36.0</td>\n",
       "      <td>0.318611</td>\n",
       "      <td>23</td>\n",
       "      <td>0</td>\n",
       "      <td>night</td>\n",
       "      <td>28</td>\n",
       "      <td>week4</td>\n",
       "    </tr>\n",
       "    <tr>\n",
       "      <th>7</th>\n",
       "      <td>1615</td>\n",
       "      <td>2019-02-28 23:41:06.766</td>\n",
       "      <td>2019-03-01 00:08:02.756</td>\n",
       "      <td>10.0</td>\n",
       "      <td>Washington St at Kearny St</td>\n",
       "      <td>37.795393</td>\n",
       "      <td>-122.404770</td>\n",
       "      <td>127.0</td>\n",
       "      <td>Valencia St at 21st St</td>\n",
       "      <td>37.756708</td>\n",
       "      <td>...</td>\n",
       "      <td>1989.0</td>\n",
       "      <td>Male</td>\n",
       "      <td>No</td>\n",
       "      <td>30.0</td>\n",
       "      <td>0.448611</td>\n",
       "      <td>23</td>\n",
       "      <td>0</td>\n",
       "      <td>night</td>\n",
       "      <td>28</td>\n",
       "      <td>week4</td>\n",
       "    </tr>\n",
       "    <tr>\n",
       "      <th>8</th>\n",
       "      <td>1570</td>\n",
       "      <td>2019-02-28 23:41:48.790</td>\n",
       "      <td>2019-03-01 00:07:59.715</td>\n",
       "      <td>10.0</td>\n",
       "      <td>Washington St at Kearny St</td>\n",
       "      <td>37.795393</td>\n",
       "      <td>-122.404770</td>\n",
       "      <td>127.0</td>\n",
       "      <td>Valencia St at 21st St</td>\n",
       "      <td>37.756708</td>\n",
       "      <td>...</td>\n",
       "      <td>1988.0</td>\n",
       "      <td>Other</td>\n",
       "      <td>No</td>\n",
       "      <td>31.0</td>\n",
       "      <td>0.436111</td>\n",
       "      <td>23</td>\n",
       "      <td>0</td>\n",
       "      <td>night</td>\n",
       "      <td>28</td>\n",
       "      <td>week4</td>\n",
       "    </tr>\n",
       "    <tr>\n",
       "      <th>9</th>\n",
       "      <td>1049</td>\n",
       "      <td>2019-02-28 23:49:47.699</td>\n",
       "      <td>2019-03-01 00:07:17.025</td>\n",
       "      <td>19.0</td>\n",
       "      <td>Post St at Kearny St</td>\n",
       "      <td>37.788975</td>\n",
       "      <td>-122.403452</td>\n",
       "      <td>121.0</td>\n",
       "      <td>Mission Playground</td>\n",
       "      <td>37.759210</td>\n",
       "      <td>...</td>\n",
       "      <td>1992.0</td>\n",
       "      <td>Male</td>\n",
       "      <td>No</td>\n",
       "      <td>27.0</td>\n",
       "      <td>0.291389</td>\n",
       "      <td>23</td>\n",
       "      <td>0</td>\n",
       "      <td>night</td>\n",
       "      <td>28</td>\n",
       "      <td>week4</td>\n",
       "    </tr>\n",
       "    <tr>\n",
       "      <th>10</th>\n",
       "      <td>458</td>\n",
       "      <td>2019-02-28 23:57:57.211</td>\n",
       "      <td>2019-03-01 00:05:35.435</td>\n",
       "      <td>370.0</td>\n",
       "      <td>Jones St at Post St</td>\n",
       "      <td>37.787327</td>\n",
       "      <td>-122.413278</td>\n",
       "      <td>43.0</td>\n",
       "      <td>San Francisco Public Library (Grove St at Hyde...</td>\n",
       "      <td>37.778768</td>\n",
       "      <td>...</td>\n",
       "      <td>1996.0</td>\n",
       "      <td>Female</td>\n",
       "      <td>Yes</td>\n",
       "      <td>23.0</td>\n",
       "      <td>0.127222</td>\n",
       "      <td>23</td>\n",
       "      <td>0</td>\n",
       "      <td>night</td>\n",
       "      <td>28</td>\n",
       "      <td>week4</td>\n",
       "    </tr>\n",
       "    <tr>\n",
       "      <th>11</th>\n",
       "      <td>506</td>\n",
       "      <td>2019-02-28 23:56:55.540</td>\n",
       "      <td>2019-03-01 00:05:21.733</td>\n",
       "      <td>44.0</td>\n",
       "      <td>Civic Center/UN Plaza BART Station (Market St ...</td>\n",
       "      <td>37.781074</td>\n",
       "      <td>-122.411738</td>\n",
       "      <td>343.0</td>\n",
       "      <td>Bryant St at 2nd St</td>\n",
       "      <td>37.783172</td>\n",
       "      <td>...</td>\n",
       "      <td>1993.0</td>\n",
       "      <td>Male</td>\n",
       "      <td>No</td>\n",
       "      <td>26.0</td>\n",
       "      <td>0.140556</td>\n",
       "      <td>23</td>\n",
       "      <td>0</td>\n",
       "      <td>night</td>\n",
       "      <td>28</td>\n",
       "      <td>week4</td>\n",
       "    </tr>\n",
       "    <tr>\n",
       "      <th>12</th>\n",
       "      <td>1176</td>\n",
       "      <td>2019-02-28 23:45:12.651</td>\n",
       "      <td>2019-03-01 00:04:49.184</td>\n",
       "      <td>127.0</td>\n",
       "      <td>Valencia St at 21st St</td>\n",
       "      <td>37.756708</td>\n",
       "      <td>-122.421025</td>\n",
       "      <td>323.0</td>\n",
       "      <td>Broadway at Kearny</td>\n",
       "      <td>37.798014</td>\n",
       "      <td>...</td>\n",
       "      <td>1990.0</td>\n",
       "      <td>Male</td>\n",
       "      <td>No</td>\n",
       "      <td>29.0</td>\n",
       "      <td>0.326667</td>\n",
       "      <td>23</td>\n",
       "      <td>0</td>\n",
       "      <td>night</td>\n",
       "      <td>28</td>\n",
       "      <td>week4</td>\n",
       "    </tr>\n",
       "    <tr>\n",
       "      <th>13</th>\n",
       "      <td>915</td>\n",
       "      <td>2019-02-28 23:49:06.062</td>\n",
       "      <td>2019-03-01 00:04:21.867</td>\n",
       "      <td>252.0</td>\n",
       "      <td>Channing Way at Shattuck Ave</td>\n",
       "      <td>37.865847</td>\n",
       "      <td>-122.267443</td>\n",
       "      <td>244.0</td>\n",
       "      <td>Shattuck Ave at Hearst Ave</td>\n",
       "      <td>37.873676</td>\n",
       "      <td>...</td>\n",
       "      <td>NaN</td>\n",
       "      <td>NaN</td>\n",
       "      <td>No</td>\n",
       "      <td>NaN</td>\n",
       "      <td>0.254167</td>\n",
       "      <td>23</td>\n",
       "      <td>0</td>\n",
       "      <td>night</td>\n",
       "      <td>28</td>\n",
       "      <td>week4</td>\n",
       "    </tr>\n",
       "    <tr>\n",
       "      <th>14</th>\n",
       "      <td>395</td>\n",
       "      <td>2019-02-28 23:56:26.848</td>\n",
       "      <td>2019-03-01 00:03:01.947</td>\n",
       "      <td>243.0</td>\n",
       "      <td>Bancroft Way at College Ave</td>\n",
       "      <td>37.869360</td>\n",
       "      <td>-122.254337</td>\n",
       "      <td>252.0</td>\n",
       "      <td>Channing Way at Shattuck Ave</td>\n",
       "      <td>37.865847</td>\n",
       "      <td>...</td>\n",
       "      <td>1988.0</td>\n",
       "      <td>Male</td>\n",
       "      <td>No</td>\n",
       "      <td>31.0</td>\n",
       "      <td>0.109722</td>\n",
       "      <td>23</td>\n",
       "      <td>0</td>\n",
       "      <td>night</td>\n",
       "      <td>28</td>\n",
       "      <td>week4</td>\n",
       "    </tr>\n",
       "    <tr>\n",
       "      <th>15</th>\n",
       "      <td>208</td>\n",
       "      <td>2019-02-28 23:59:18.548</td>\n",
       "      <td>2019-03-01 00:02:47.228</td>\n",
       "      <td>349.0</td>\n",
       "      <td>Howard St at Mary St</td>\n",
       "      <td>37.781010</td>\n",
       "      <td>-122.405666</td>\n",
       "      <td>60.0</td>\n",
       "      <td>8th St at Ringold St</td>\n",
       "      <td>37.774520</td>\n",
       "      <td>...</td>\n",
       "      <td>1993.0</td>\n",
       "      <td>Male</td>\n",
       "      <td>Yes</td>\n",
       "      <td>26.0</td>\n",
       "      <td>0.057778</td>\n",
       "      <td>23</td>\n",
       "      <td>0</td>\n",
       "      <td>night</td>\n",
       "      <td>28</td>\n",
       "      <td>week4</td>\n",
       "    </tr>\n",
       "    <tr>\n",
       "      <th>16</th>\n",
       "      <td>548</td>\n",
       "      <td>2019-02-28 23:50:41.607</td>\n",
       "      <td>2019-02-28 23:59:49.953</td>\n",
       "      <td>131.0</td>\n",
       "      <td>22nd St at Dolores St</td>\n",
       "      <td>37.755000</td>\n",
       "      <td>-122.425728</td>\n",
       "      <td>71.0</td>\n",
       "      <td>Broderick St at Oak St</td>\n",
       "      <td>37.773063</td>\n",
       "      <td>...</td>\n",
       "      <td>1981.0</td>\n",
       "      <td>Male</td>\n",
       "      <td>No</td>\n",
       "      <td>38.0</td>\n",
       "      <td>0.152222</td>\n",
       "      <td>23</td>\n",
       "      <td>23</td>\n",
       "      <td>night</td>\n",
       "      <td>28</td>\n",
       "      <td>week4</td>\n",
       "    </tr>\n",
       "    <tr>\n",
       "      <th>17</th>\n",
       "      <td>674</td>\n",
       "      <td>2019-02-28 23:48:25.095</td>\n",
       "      <td>2019-02-28 23:59:40.092</td>\n",
       "      <td>74.0</td>\n",
       "      <td>Laguna St at Hayes St</td>\n",
       "      <td>37.776435</td>\n",
       "      <td>-122.426244</td>\n",
       "      <td>336.0</td>\n",
       "      <td>Potrero Ave and Mariposa St</td>\n",
       "      <td>37.763281</td>\n",
       "      <td>...</td>\n",
       "      <td>1975.0</td>\n",
       "      <td>Male</td>\n",
       "      <td>No</td>\n",
       "      <td>44.0</td>\n",
       "      <td>0.187222</td>\n",
       "      <td>23</td>\n",
       "      <td>23</td>\n",
       "      <td>night</td>\n",
       "      <td>28</td>\n",
       "      <td>week4</td>\n",
       "    </tr>\n",
       "    <tr>\n",
       "      <th>18</th>\n",
       "      <td>557</td>\n",
       "      <td>2019-02-28 23:49:01.851</td>\n",
       "      <td>2019-02-28 23:58:19.809</td>\n",
       "      <td>321.0</td>\n",
       "      <td>5th St at Folsom</td>\n",
       "      <td>37.780146</td>\n",
       "      <td>-122.403071</td>\n",
       "      <td>75.0</td>\n",
       "      <td>Market St at Franklin St</td>\n",
       "      <td>37.773793</td>\n",
       "      <td>...</td>\n",
       "      <td>1990.0</td>\n",
       "      <td>Male</td>\n",
       "      <td>No</td>\n",
       "      <td>29.0</td>\n",
       "      <td>0.154722</td>\n",
       "      <td>23</td>\n",
       "      <td>23</td>\n",
       "      <td>night</td>\n",
       "      <td>28</td>\n",
       "      <td>week4</td>\n",
       "    </tr>\n",
       "    <tr>\n",
       "      <th>19</th>\n",
       "      <td>874</td>\n",
       "      <td>2019-02-28 23:43:05.183</td>\n",
       "      <td>2019-02-28 23:57:39.796</td>\n",
       "      <td>180.0</td>\n",
       "      <td>Telegraph Ave at 23rd St</td>\n",
       "      <td>37.812678</td>\n",
       "      <td>-122.268773</td>\n",
       "      <td>180.0</td>\n",
       "      <td>Telegraph Ave at 23rd St</td>\n",
       "      <td>37.812678</td>\n",
       "      <td>...</td>\n",
       "      <td>1978.0</td>\n",
       "      <td>Male</td>\n",
       "      <td>No</td>\n",
       "      <td>41.0</td>\n",
       "      <td>0.242778</td>\n",
       "      <td>23</td>\n",
       "      <td>23</td>\n",
       "      <td>night</td>\n",
       "      <td>28</td>\n",
       "      <td>week4</td>\n",
       "    </tr>\n",
       "    <tr>\n",
       "      <th>20</th>\n",
       "      <td>417</td>\n",
       "      <td>2019-02-28 23:50:38.239</td>\n",
       "      <td>2019-02-28 23:57:35.852</td>\n",
       "      <td>72.0</td>\n",
       "      <td>Page St at Scott St</td>\n",
       "      <td>37.772406</td>\n",
       "      <td>-122.435650</td>\n",
       "      <td>107.0</td>\n",
       "      <td>17th St at Dolores St</td>\n",
       "      <td>37.763015</td>\n",
       "      <td>...</td>\n",
       "      <td>1983.0</td>\n",
       "      <td>Male</td>\n",
       "      <td>No</td>\n",
       "      <td>36.0</td>\n",
       "      <td>0.115833</td>\n",
       "      <td>23</td>\n",
       "      <td>23</td>\n",
       "      <td>night</td>\n",
       "      <td>28</td>\n",
       "      <td>week4</td>\n",
       "    </tr>\n",
       "    <tr>\n",
       "      <th>21</th>\n",
       "      <td>414</td>\n",
       "      <td>2019-02-28 23:50:26.879</td>\n",
       "      <td>2019-02-28 23:57:21.130</td>\n",
       "      <td>163.0</td>\n",
       "      <td>Lake Merritt BART Station</td>\n",
       "      <td>37.797320</td>\n",
       "      <td>-122.265320</td>\n",
       "      <td>221.0</td>\n",
       "      <td>6th Ave at E 12th St (Temporary Location)</td>\n",
       "      <td>37.794396</td>\n",
       "      <td>...</td>\n",
       "      <td>1984.0</td>\n",
       "      <td>Male</td>\n",
       "      <td>Yes</td>\n",
       "      <td>35.0</td>\n",
       "      <td>0.115000</td>\n",
       "      <td>23</td>\n",
       "      <td>23</td>\n",
       "      <td>night</td>\n",
       "      <td>28</td>\n",
       "      <td>week4</td>\n",
       "    </tr>\n",
       "    <tr>\n",
       "      <th>22</th>\n",
       "      <td>743</td>\n",
       "      <td>2019-02-28 23:44:56.439</td>\n",
       "      <td>2019-02-28 23:57:20.212</td>\n",
       "      <td>370.0</td>\n",
       "      <td>Jones St at Post St</td>\n",
       "      <td>37.787327</td>\n",
       "      <td>-122.413278</td>\n",
       "      <td>52.0</td>\n",
       "      <td>McAllister St at Baker St</td>\n",
       "      <td>37.777416</td>\n",
       "      <td>...</td>\n",
       "      <td>1991.0</td>\n",
       "      <td>Female</td>\n",
       "      <td>No</td>\n",
       "      <td>28.0</td>\n",
       "      <td>0.206389</td>\n",
       "      <td>23</td>\n",
       "      <td>23</td>\n",
       "      <td>night</td>\n",
       "      <td>28</td>\n",
       "      <td>week4</td>\n",
       "    </tr>\n",
       "    <tr>\n",
       "      <th>23</th>\n",
       "      <td>367</td>\n",
       "      <td>2019-02-28 23:51:06.014</td>\n",
       "      <td>2019-02-28 23:57:13.312</td>\n",
       "      <td>243.0</td>\n",
       "      <td>Bancroft Way at College Ave</td>\n",
       "      <td>37.869360</td>\n",
       "      <td>-122.254337</td>\n",
       "      <td>269.0</td>\n",
       "      <td>Telegraph Ave at Carleton St</td>\n",
       "      <td>37.862320</td>\n",
       "      <td>...</td>\n",
       "      <td>1997.0</td>\n",
       "      <td>Female</td>\n",
       "      <td>No</td>\n",
       "      <td>22.0</td>\n",
       "      <td>0.101944</td>\n",
       "      <td>23</td>\n",
       "      <td>23</td>\n",
       "      <td>night</td>\n",
       "      <td>28</td>\n",
       "      <td>week4</td>\n",
       "    </tr>\n",
       "    <tr>\n",
       "      <th>24</th>\n",
       "      <td>252</td>\n",
       "      <td>2019-02-28 23:52:51.164</td>\n",
       "      <td>2019-02-28 23:57:03.976</td>\n",
       "      <td>190.0</td>\n",
       "      <td>West St at 40th St</td>\n",
       "      <td>37.830223</td>\n",
       "      <td>-122.270950</td>\n",
       "      <td>189.0</td>\n",
       "      <td>Genoa St at 55th St</td>\n",
       "      <td>37.839649</td>\n",
       "      <td>...</td>\n",
       "      <td>1975.0</td>\n",
       "      <td>Male</td>\n",
       "      <td>No</td>\n",
       "      <td>44.0</td>\n",
       "      <td>0.070000</td>\n",
       "      <td>23</td>\n",
       "      <td>23</td>\n",
       "      <td>night</td>\n",
       "      <td>28</td>\n",
       "      <td>week4</td>\n",
       "    </tr>\n",
       "    <tr>\n",
       "      <th>25</th>\n",
       "      <td>360</td>\n",
       "      <td>2019-02-28 23:50:31.431</td>\n",
       "      <td>2019-02-28 23:56:31.891</td>\n",
       "      <td>163.0</td>\n",
       "      <td>Lake Merritt BART Station</td>\n",
       "      <td>37.797320</td>\n",
       "      <td>-122.265320</td>\n",
       "      <td>196.0</td>\n",
       "      <td>Grand Ave at Perkins St</td>\n",
       "      <td>37.808894</td>\n",
       "      <td>...</td>\n",
       "      <td>1986.0</td>\n",
       "      <td>Male</td>\n",
       "      <td>No</td>\n",
       "      <td>33.0</td>\n",
       "      <td>0.100000</td>\n",
       "      <td>23</td>\n",
       "      <td>23</td>\n",
       "      <td>night</td>\n",
       "      <td>28</td>\n",
       "      <td>week4</td>\n",
       "    </tr>\n",
       "    <tr>\n",
       "      <th>26</th>\n",
       "      <td>385</td>\n",
       "      <td>2019-02-28 23:49:24.399</td>\n",
       "      <td>2019-02-28 23:55:50.284</td>\n",
       "      <td>6.0</td>\n",
       "      <td>The Embarcadero at Sansome St</td>\n",
       "      <td>37.804770</td>\n",
       "      <td>-122.403234</td>\n",
       "      <td>15.0</td>\n",
       "      <td>San Francisco Ferry Building (Harry Bridges Pl...</td>\n",
       "      <td>37.795392</td>\n",
       "      <td>...</td>\n",
       "      <td>2000.0</td>\n",
       "      <td>Male</td>\n",
       "      <td>No</td>\n",
       "      <td>19.0</td>\n",
       "      <td>0.106944</td>\n",
       "      <td>23</td>\n",
       "      <td>23</td>\n",
       "      <td>night</td>\n",
       "      <td>28</td>\n",
       "      <td>week4</td>\n",
       "    </tr>\n",
       "    <tr>\n",
       "      <th>27</th>\n",
       "      <td>408</td>\n",
       "      <td>2019-02-28 23:48:08.282</td>\n",
       "      <td>2019-02-28 23:54:56.930</td>\n",
       "      <td>78.0</td>\n",
       "      <td>Folsom St at 9th St</td>\n",
       "      <td>37.773717</td>\n",
       "      <td>-122.411647</td>\n",
       "      <td>78.0</td>\n",
       "      <td>Folsom St at 9th St</td>\n",
       "      <td>37.773717</td>\n",
       "      <td>...</td>\n",
       "      <td>1982.0</td>\n",
       "      <td>Male</td>\n",
       "      <td>No</td>\n",
       "      <td>37.0</td>\n",
       "      <td>0.113333</td>\n",
       "      <td>23</td>\n",
       "      <td>23</td>\n",
       "      <td>night</td>\n",
       "      <td>28</td>\n",
       "      <td>week4</td>\n",
       "    </tr>\n",
       "    <tr>\n",
       "      <th>28</th>\n",
       "      <td>650</td>\n",
       "      <td>2019-02-28 23:43:27.503</td>\n",
       "      <td>2019-02-28 23:54:18.451</td>\n",
       "      <td>258.0</td>\n",
       "      <td>University Ave at Oxford St</td>\n",
       "      <td>37.872355</td>\n",
       "      <td>-122.266447</td>\n",
       "      <td>263.0</td>\n",
       "      <td>Channing Way at San Pablo Ave</td>\n",
       "      <td>37.862827</td>\n",
       "      <td>...</td>\n",
       "      <td>NaN</td>\n",
       "      <td>NaN</td>\n",
       "      <td>No</td>\n",
       "      <td>NaN</td>\n",
       "      <td>0.180556</td>\n",
       "      <td>23</td>\n",
       "      <td>23</td>\n",
       "      <td>night</td>\n",
       "      <td>28</td>\n",
       "      <td>week4</td>\n",
       "    </tr>\n",
       "    <tr>\n",
       "      <th>29</th>\n",
       "      <td>629</td>\n",
       "      <td>2019-02-28 23:43:48.658</td>\n",
       "      <td>2019-02-28 23:54:18.254</td>\n",
       "      <td>258.0</td>\n",
       "      <td>University Ave at Oxford St</td>\n",
       "      <td>37.872355</td>\n",
       "      <td>-122.266447</td>\n",
       "      <td>263.0</td>\n",
       "      <td>Channing Way at San Pablo Ave</td>\n",
       "      <td>37.862827</td>\n",
       "      <td>...</td>\n",
       "      <td>1995.0</td>\n",
       "      <td>Male</td>\n",
       "      <td>No</td>\n",
       "      <td>24.0</td>\n",
       "      <td>0.174722</td>\n",
       "      <td>23</td>\n",
       "      <td>23</td>\n",
       "      <td>night</td>\n",
       "      <td>28</td>\n",
       "      <td>week4</td>\n",
       "    </tr>\n",
       "  </tbody>\n",
       "</table>\n",
       "<p>30 rows × 23 columns</p>\n",
       "</div>"
      ],
      "text/plain": [
       "    duration_sec              start_time                end_time  \\\n",
       "0          52185 2019-02-28 17:32:10.145 2019-03-01 08:01:55.975   \n",
       "1          42521 2019-02-28 18:53:21.789 2019-03-01 06:42:03.056   \n",
       "2          61854 2019-02-28 12:13:13.218 2019-03-01 05:24:08.146   \n",
       "3          36490 2019-02-28 17:54:26.010 2019-03-01 04:02:36.842   \n",
       "4           1585 2019-02-28 23:54:18.549 2019-03-01 00:20:44.074   \n",
       "5           1793 2019-02-28 23:49:58.632 2019-03-01 00:19:51.760   \n",
       "6           1147 2019-02-28 23:55:35.104 2019-03-01 00:14:42.588   \n",
       "7           1615 2019-02-28 23:41:06.766 2019-03-01 00:08:02.756   \n",
       "8           1570 2019-02-28 23:41:48.790 2019-03-01 00:07:59.715   \n",
       "9           1049 2019-02-28 23:49:47.699 2019-03-01 00:07:17.025   \n",
       "10           458 2019-02-28 23:57:57.211 2019-03-01 00:05:35.435   \n",
       "11           506 2019-02-28 23:56:55.540 2019-03-01 00:05:21.733   \n",
       "12          1176 2019-02-28 23:45:12.651 2019-03-01 00:04:49.184   \n",
       "13           915 2019-02-28 23:49:06.062 2019-03-01 00:04:21.867   \n",
       "14           395 2019-02-28 23:56:26.848 2019-03-01 00:03:01.947   \n",
       "15           208 2019-02-28 23:59:18.548 2019-03-01 00:02:47.228   \n",
       "16           548 2019-02-28 23:50:41.607 2019-02-28 23:59:49.953   \n",
       "17           674 2019-02-28 23:48:25.095 2019-02-28 23:59:40.092   \n",
       "18           557 2019-02-28 23:49:01.851 2019-02-28 23:58:19.809   \n",
       "19           874 2019-02-28 23:43:05.183 2019-02-28 23:57:39.796   \n",
       "20           417 2019-02-28 23:50:38.239 2019-02-28 23:57:35.852   \n",
       "21           414 2019-02-28 23:50:26.879 2019-02-28 23:57:21.130   \n",
       "22           743 2019-02-28 23:44:56.439 2019-02-28 23:57:20.212   \n",
       "23           367 2019-02-28 23:51:06.014 2019-02-28 23:57:13.312   \n",
       "24           252 2019-02-28 23:52:51.164 2019-02-28 23:57:03.976   \n",
       "25           360 2019-02-28 23:50:31.431 2019-02-28 23:56:31.891   \n",
       "26           385 2019-02-28 23:49:24.399 2019-02-28 23:55:50.284   \n",
       "27           408 2019-02-28 23:48:08.282 2019-02-28 23:54:56.930   \n",
       "28           650 2019-02-28 23:43:27.503 2019-02-28 23:54:18.451   \n",
       "29           629 2019-02-28 23:43:48.658 2019-02-28 23:54:18.254   \n",
       "\n",
       "    start_station_id                                 start_station_name  \\\n",
       "0               21.0   Montgomery St BART Station (Market St at 2nd St)   \n",
       "1               23.0                      The Embarcadero at Steuart St   \n",
       "2               86.0                            Market St at Dolores St   \n",
       "3              375.0                            Grove St at Masonic Ave   \n",
       "4                7.0                                Frank H Ogawa Plaza   \n",
       "5               93.0                       4th St at Mission Bay Blvd S   \n",
       "6              300.0                               Palm St at Willow St   \n",
       "7               10.0                         Washington St at Kearny St   \n",
       "8               10.0                         Washington St at Kearny St   \n",
       "9               19.0                               Post St at Kearny St   \n",
       "10             370.0                                Jones St at Post St   \n",
       "11              44.0  Civic Center/UN Plaza BART Station (Market St ...   \n",
       "12             127.0                             Valencia St at 21st St   \n",
       "13             252.0                       Channing Way at Shattuck Ave   \n",
       "14             243.0                        Bancroft Way at College Ave   \n",
       "15             349.0                               Howard St at Mary St   \n",
       "16             131.0                              22nd St at Dolores St   \n",
       "17              74.0                              Laguna St at Hayes St   \n",
       "18             321.0                                   5th St at Folsom   \n",
       "19             180.0                           Telegraph Ave at 23rd St   \n",
       "20              72.0                                Page St at Scott St   \n",
       "21             163.0                          Lake Merritt BART Station   \n",
       "22             370.0                                Jones St at Post St   \n",
       "23             243.0                        Bancroft Way at College Ave   \n",
       "24             190.0                                 West St at 40th St   \n",
       "25             163.0                          Lake Merritt BART Station   \n",
       "26               6.0                      The Embarcadero at Sansome St   \n",
       "27              78.0                                Folsom St at 9th St   \n",
       "28             258.0                        University Ave at Oxford St   \n",
       "29             258.0                        University Ave at Oxford St   \n",
       "\n",
       "    start_station_latitude  start_station_longitude  end_station_id  \\\n",
       "0                37.789625              -122.400811            13.0   \n",
       "1                37.791464              -122.391034            81.0   \n",
       "2                37.769305              -122.426826             3.0   \n",
       "3                37.774836              -122.446546            70.0   \n",
       "4                37.804562              -122.271738           222.0   \n",
       "5                37.770407              -122.391198           323.0   \n",
       "6                37.317298              -121.884995           312.0   \n",
       "7                37.795393              -122.404770           127.0   \n",
       "8                37.795393              -122.404770           127.0   \n",
       "9                37.788975              -122.403452           121.0   \n",
       "10               37.787327              -122.413278            43.0   \n",
       "11               37.781074              -122.411738           343.0   \n",
       "12               37.756708              -122.421025           323.0   \n",
       "13               37.865847              -122.267443           244.0   \n",
       "14               37.869360              -122.254337           252.0   \n",
       "15               37.781010              -122.405666            60.0   \n",
       "16               37.755000              -122.425728            71.0   \n",
       "17               37.776435              -122.426244           336.0   \n",
       "18               37.780146              -122.403071            75.0   \n",
       "19               37.812678              -122.268773           180.0   \n",
       "20               37.772406              -122.435650           107.0   \n",
       "21               37.797320              -122.265320           221.0   \n",
       "22               37.787327              -122.413278            52.0   \n",
       "23               37.869360              -122.254337           269.0   \n",
       "24               37.830223              -122.270950           189.0   \n",
       "25               37.797320              -122.265320           196.0   \n",
       "26               37.804770              -122.403234            15.0   \n",
       "27               37.773717              -122.411647            78.0   \n",
       "28               37.872355              -122.266447           263.0   \n",
       "29               37.872355              -122.266447           263.0   \n",
       "\n",
       "                                     end_station_name  end_station_latitude  \\\n",
       "0                      Commercial St at Montgomery St             37.794231   \n",
       "1                                  Berry St at 4th St             37.775880   \n",
       "2        Powell St BART Station (Market St at 4th St)             37.786375   \n",
       "3                              Central Ave at Fell St             37.773311   \n",
       "4                               10th Ave at E 15th St             37.792714   \n",
       "5                                  Broadway at Kearny             37.798014   \n",
       "6                            San Jose Diridon Station             37.329732   \n",
       "7                              Valencia St at 21st St             37.756708   \n",
       "8                              Valencia St at 21st St             37.756708   \n",
       "9                                  Mission Playground             37.759210   \n",
       "10  San Francisco Public Library (Grove St at Hyde...             37.778768   \n",
       "11                                Bryant St at 2nd St             37.783172   \n",
       "12                                 Broadway at Kearny             37.798014   \n",
       "13                         Shattuck Ave at Hearst Ave             37.873676   \n",
       "14                       Channing Way at Shattuck Ave             37.865847   \n",
       "15                               8th St at Ringold St             37.774520   \n",
       "16                             Broderick St at Oak St             37.773063   \n",
       "17                        Potrero Ave and Mariposa St             37.763281   \n",
       "18                           Market St at Franklin St             37.773793   \n",
       "19                           Telegraph Ave at 23rd St             37.812678   \n",
       "20                              17th St at Dolores St             37.763015   \n",
       "21          6th Ave at E 12th St (Temporary Location)             37.794396   \n",
       "22                          McAllister St at Baker St             37.777416   \n",
       "23                       Telegraph Ave at Carleton St             37.862320   \n",
       "24                                Genoa St at 55th St             37.839649   \n",
       "25                            Grand Ave at Perkins St             37.808894   \n",
       "26  San Francisco Ferry Building (Harry Bridges Pl...             37.795392   \n",
       "27                                Folsom St at 9th St             37.773717   \n",
       "28                      Channing Way at San Pablo Ave             37.862827   \n",
       "29                      Channing Way at San Pablo Ave             37.862827   \n",
       "\n",
       "    ...  member_birth_year  member_gender bike_share_for_all_trip   Age  \\\n",
       "0   ...             1984.0           Male                      No  35.0   \n",
       "1   ...                NaN            NaN                      No   NaN   \n",
       "2   ...             1972.0           Male                      No  47.0   \n",
       "3   ...             1989.0          Other                      No  30.0   \n",
       "4   ...             1974.0           Male                     Yes  45.0   \n",
       "5   ...             1959.0           Male                      No  60.0   \n",
       "6   ...             1983.0         Female                      No  36.0   \n",
       "7   ...             1989.0           Male                      No  30.0   \n",
       "8   ...             1988.0          Other                      No  31.0   \n",
       "9   ...             1992.0           Male                      No  27.0   \n",
       "10  ...             1996.0         Female                     Yes  23.0   \n",
       "11  ...             1993.0           Male                      No  26.0   \n",
       "12  ...             1990.0           Male                      No  29.0   \n",
       "13  ...                NaN            NaN                      No   NaN   \n",
       "14  ...             1988.0           Male                      No  31.0   \n",
       "15  ...             1993.0           Male                     Yes  26.0   \n",
       "16  ...             1981.0           Male                      No  38.0   \n",
       "17  ...             1975.0           Male                      No  44.0   \n",
       "18  ...             1990.0           Male                      No  29.0   \n",
       "19  ...             1978.0           Male                      No  41.0   \n",
       "20  ...             1983.0           Male                      No  36.0   \n",
       "21  ...             1984.0           Male                     Yes  35.0   \n",
       "22  ...             1991.0         Female                      No  28.0   \n",
       "23  ...             1997.0         Female                      No  22.0   \n",
       "24  ...             1975.0           Male                      No  44.0   \n",
       "25  ...             1986.0           Male                      No  33.0   \n",
       "26  ...             2000.0           Male                      No  19.0   \n",
       "27  ...             1982.0           Male                      No  37.0   \n",
       "28  ...                NaN            NaN                      No   NaN   \n",
       "29  ...             1995.0           Male                      No  24.0   \n",
       "\n",
       "   duration_hours start_hour  end_hour  period_day  day  week_num  \n",
       "0       14.495833         17         8   afternoon   28     week4  \n",
       "1       11.811389         18         6   afternoon   28     week4  \n",
       "2       17.181667         12         5   afternoon   28     week4  \n",
       "3       10.136111         17         4   afternoon   28     week4  \n",
       "4        0.440278         23         0       night   28     week4  \n",
       "5        0.498056         23         0       night   28     week4  \n",
       "6        0.318611         23         0       night   28     week4  \n",
       "7        0.448611         23         0       night   28     week4  \n",
       "8        0.436111         23         0       night   28     week4  \n",
       "9        0.291389         23         0       night   28     week4  \n",
       "10       0.127222         23         0       night   28     week4  \n",
       "11       0.140556         23         0       night   28     week4  \n",
       "12       0.326667         23         0       night   28     week4  \n",
       "13       0.254167         23         0       night   28     week4  \n",
       "14       0.109722         23         0       night   28     week4  \n",
       "15       0.057778         23         0       night   28     week4  \n",
       "16       0.152222         23        23       night   28     week4  \n",
       "17       0.187222         23        23       night   28     week4  \n",
       "18       0.154722         23        23       night   28     week4  \n",
       "19       0.242778         23        23       night   28     week4  \n",
       "20       0.115833         23        23       night   28     week4  \n",
       "21       0.115000         23        23       night   28     week4  \n",
       "22       0.206389         23        23       night   28     week4  \n",
       "23       0.101944         23        23       night   28     week4  \n",
       "24       0.070000         23        23       night   28     week4  \n",
       "25       0.100000         23        23       night   28     week4  \n",
       "26       0.106944         23        23       night   28     week4  \n",
       "27       0.113333         23        23       night   28     week4  \n",
       "28       0.180556         23        23       night   28     week4  \n",
       "29       0.174722         23        23       night   28     week4  \n",
       "\n",
       "[30 rows x 23 columns]"
      ]
     },
     "execution_count": 21,
     "metadata": {},
     "output_type": "execute_result"
    }
   ],
   "source": [
    "df.head(30)"
   ]
  },
  {
   "cell_type": "code",
   "execution_count": 22,
   "metadata": {
    "slideshow": {
     "slide_type": "skip"
    }
   },
   "outputs": [
    {
     "data": {
      "text/html": [
       "<div>\n",
       "<style scoped>\n",
       "    .dataframe tbody tr th:only-of-type {\n",
       "        vertical-align: middle;\n",
       "    }\n",
       "\n",
       "    .dataframe tbody tr th {\n",
       "        vertical-align: top;\n",
       "    }\n",
       "\n",
       "    .dataframe thead th {\n",
       "        text-align: right;\n",
       "    }\n",
       "</style>\n",
       "<table border=\"1\" class=\"dataframe\">\n",
       "  <thead>\n",
       "    <tr style=\"text-align: right;\">\n",
       "      <th></th>\n",
       "      <th>duration_sec</th>\n",
       "      <th>start_time</th>\n",
       "      <th>end_time</th>\n",
       "      <th>start_station_id</th>\n",
       "      <th>start_station_name</th>\n",
       "      <th>start_station_latitude</th>\n",
       "      <th>start_station_longitude</th>\n",
       "      <th>end_station_id</th>\n",
       "      <th>end_station_name</th>\n",
       "      <th>end_station_latitude</th>\n",
       "      <th>...</th>\n",
       "      <th>member_birth_year</th>\n",
       "      <th>member_gender</th>\n",
       "      <th>bike_share_for_all_trip</th>\n",
       "      <th>Age</th>\n",
       "      <th>duration_hours</th>\n",
       "      <th>start_hour</th>\n",
       "      <th>end_hour</th>\n",
       "      <th>period_day</th>\n",
       "      <th>day</th>\n",
       "      <th>week_num</th>\n",
       "    </tr>\n",
       "  </thead>\n",
       "  <tbody>\n",
       "    <tr>\n",
       "      <th>0</th>\n",
       "      <td>52185</td>\n",
       "      <td>2019-02-28 17:32:10.145</td>\n",
       "      <td>2019-03-01 08:01:55.975</td>\n",
       "      <td>21.0</td>\n",
       "      <td>Montgomery St BART Station (Market St at 2nd St)</td>\n",
       "      <td>37.789625</td>\n",
       "      <td>-122.400811</td>\n",
       "      <td>13.0</td>\n",
       "      <td>Commercial St at Montgomery St</td>\n",
       "      <td>37.794231</td>\n",
       "      <td>...</td>\n",
       "      <td>1984.0</td>\n",
       "      <td>Male</td>\n",
       "      <td>No</td>\n",
       "      <td>35.0</td>\n",
       "      <td>14.495833</td>\n",
       "      <td>17</td>\n",
       "      <td>8</td>\n",
       "      <td>afternoon</td>\n",
       "      <td>28</td>\n",
       "      <td>week4</td>\n",
       "    </tr>\n",
       "    <tr>\n",
       "      <th>2</th>\n",
       "      <td>61854</td>\n",
       "      <td>2019-02-28 12:13:13.218</td>\n",
       "      <td>2019-03-01 05:24:08.146</td>\n",
       "      <td>86.0</td>\n",
       "      <td>Market St at Dolores St</td>\n",
       "      <td>37.769305</td>\n",
       "      <td>-122.426826</td>\n",
       "      <td>3.0</td>\n",
       "      <td>Powell St BART Station (Market St at 4th St)</td>\n",
       "      <td>37.786375</td>\n",
       "      <td>...</td>\n",
       "      <td>1972.0</td>\n",
       "      <td>Male</td>\n",
       "      <td>No</td>\n",
       "      <td>47.0</td>\n",
       "      <td>17.181667</td>\n",
       "      <td>12</td>\n",
       "      <td>5</td>\n",
       "      <td>afternoon</td>\n",
       "      <td>28</td>\n",
       "      <td>week4</td>\n",
       "    </tr>\n",
       "    <tr>\n",
       "      <th>3</th>\n",
       "      <td>36490</td>\n",
       "      <td>2019-02-28 17:54:26.010</td>\n",
       "      <td>2019-03-01 04:02:36.842</td>\n",
       "      <td>375.0</td>\n",
       "      <td>Grove St at Masonic Ave</td>\n",
       "      <td>37.774836</td>\n",
       "      <td>-122.446546</td>\n",
       "      <td>70.0</td>\n",
       "      <td>Central Ave at Fell St</td>\n",
       "      <td>37.773311</td>\n",
       "      <td>...</td>\n",
       "      <td>1989.0</td>\n",
       "      <td>Other</td>\n",
       "      <td>No</td>\n",
       "      <td>30.0</td>\n",
       "      <td>10.136111</td>\n",
       "      <td>17</td>\n",
       "      <td>4</td>\n",
       "      <td>afternoon</td>\n",
       "      <td>28</td>\n",
       "      <td>week4</td>\n",
       "    </tr>\n",
       "    <tr>\n",
       "      <th>4</th>\n",
       "      <td>1585</td>\n",
       "      <td>2019-02-28 23:54:18.549</td>\n",
       "      <td>2019-03-01 00:20:44.074</td>\n",
       "      <td>7.0</td>\n",
       "      <td>Frank H Ogawa Plaza</td>\n",
       "      <td>37.804562</td>\n",
       "      <td>-122.271738</td>\n",
       "      <td>222.0</td>\n",
       "      <td>10th Ave at E 15th St</td>\n",
       "      <td>37.792714</td>\n",
       "      <td>...</td>\n",
       "      <td>1974.0</td>\n",
       "      <td>Male</td>\n",
       "      <td>Yes</td>\n",
       "      <td>45.0</td>\n",
       "      <td>0.440278</td>\n",
       "      <td>23</td>\n",
       "      <td>0</td>\n",
       "      <td>night</td>\n",
       "      <td>28</td>\n",
       "      <td>week4</td>\n",
       "    </tr>\n",
       "    <tr>\n",
       "      <th>5</th>\n",
       "      <td>1793</td>\n",
       "      <td>2019-02-28 23:49:58.632</td>\n",
       "      <td>2019-03-01 00:19:51.760</td>\n",
       "      <td>93.0</td>\n",
       "      <td>4th St at Mission Bay Blvd S</td>\n",
       "      <td>37.770407</td>\n",
       "      <td>-122.391198</td>\n",
       "      <td>323.0</td>\n",
       "      <td>Broadway at Kearny</td>\n",
       "      <td>37.798014</td>\n",
       "      <td>...</td>\n",
       "      <td>1959.0</td>\n",
       "      <td>Male</td>\n",
       "      <td>No</td>\n",
       "      <td>60.0</td>\n",
       "      <td>0.498056</td>\n",
       "      <td>23</td>\n",
       "      <td>0</td>\n",
       "      <td>night</td>\n",
       "      <td>28</td>\n",
       "      <td>week4</td>\n",
       "    </tr>\n",
       "    <tr>\n",
       "      <th>...</th>\n",
       "      <td>...</td>\n",
       "      <td>...</td>\n",
       "      <td>...</td>\n",
       "      <td>...</td>\n",
       "      <td>...</td>\n",
       "      <td>...</td>\n",
       "      <td>...</td>\n",
       "      <td>...</td>\n",
       "      <td>...</td>\n",
       "      <td>...</td>\n",
       "      <td>...</td>\n",
       "      <td>...</td>\n",
       "      <td>...</td>\n",
       "      <td>...</td>\n",
       "      <td>...</td>\n",
       "      <td>...</td>\n",
       "      <td>...</td>\n",
       "      <td>...</td>\n",
       "      <td>...</td>\n",
       "      <td>...</td>\n",
       "      <td>...</td>\n",
       "    </tr>\n",
       "    <tr>\n",
       "      <th>183407</th>\n",
       "      <td>480</td>\n",
       "      <td>2019-02-01 00:04:49.724</td>\n",
       "      <td>2019-02-01 00:12:50.034</td>\n",
       "      <td>27.0</td>\n",
       "      <td>Beale St at Harrison St</td>\n",
       "      <td>37.788059</td>\n",
       "      <td>-122.391865</td>\n",
       "      <td>324.0</td>\n",
       "      <td>Union Square (Powell St at Post St)</td>\n",
       "      <td>37.788300</td>\n",
       "      <td>...</td>\n",
       "      <td>1996.0</td>\n",
       "      <td>Male</td>\n",
       "      <td>No</td>\n",
       "      <td>23.0</td>\n",
       "      <td>0.133333</td>\n",
       "      <td>0</td>\n",
       "      <td>0</td>\n",
       "      <td>morning</td>\n",
       "      <td>1</td>\n",
       "      <td>week1</td>\n",
       "    </tr>\n",
       "    <tr>\n",
       "      <th>183408</th>\n",
       "      <td>313</td>\n",
       "      <td>2019-02-01 00:05:34.744</td>\n",
       "      <td>2019-02-01 00:10:48.502</td>\n",
       "      <td>21.0</td>\n",
       "      <td>Montgomery St BART Station (Market St at 2nd St)</td>\n",
       "      <td>37.789625</td>\n",
       "      <td>-122.400811</td>\n",
       "      <td>66.0</td>\n",
       "      <td>3rd St at Townsend St</td>\n",
       "      <td>37.778742</td>\n",
       "      <td>...</td>\n",
       "      <td>1984.0</td>\n",
       "      <td>Male</td>\n",
       "      <td>No</td>\n",
       "      <td>35.0</td>\n",
       "      <td>0.086944</td>\n",
       "      <td>0</td>\n",
       "      <td>0</td>\n",
       "      <td>morning</td>\n",
       "      <td>1</td>\n",
       "      <td>week1</td>\n",
       "    </tr>\n",
       "    <tr>\n",
       "      <th>183409</th>\n",
       "      <td>141</td>\n",
       "      <td>2019-02-01 00:06:05.549</td>\n",
       "      <td>2019-02-01 00:08:27.220</td>\n",
       "      <td>278.0</td>\n",
       "      <td>The Alameda at Bush St</td>\n",
       "      <td>37.331932</td>\n",
       "      <td>-121.904888</td>\n",
       "      <td>277.0</td>\n",
       "      <td>Morrison Ave at Julian St</td>\n",
       "      <td>37.333658</td>\n",
       "      <td>...</td>\n",
       "      <td>1990.0</td>\n",
       "      <td>Male</td>\n",
       "      <td>Yes</td>\n",
       "      <td>29.0</td>\n",
       "      <td>0.039167</td>\n",
       "      <td>0</td>\n",
       "      <td>0</td>\n",
       "      <td>morning</td>\n",
       "      <td>1</td>\n",
       "      <td>week1</td>\n",
       "    </tr>\n",
       "    <tr>\n",
       "      <th>183410</th>\n",
       "      <td>139</td>\n",
       "      <td>2019-02-01 00:05:34.360</td>\n",
       "      <td>2019-02-01 00:07:54.287</td>\n",
       "      <td>220.0</td>\n",
       "      <td>San Pablo Ave at MLK Jr Way</td>\n",
       "      <td>37.811351</td>\n",
       "      <td>-122.273422</td>\n",
       "      <td>216.0</td>\n",
       "      <td>San Pablo Ave at 27th St</td>\n",
       "      <td>37.817827</td>\n",
       "      <td>...</td>\n",
       "      <td>1988.0</td>\n",
       "      <td>Male</td>\n",
       "      <td>No</td>\n",
       "      <td>31.0</td>\n",
       "      <td>0.038611</td>\n",
       "      <td>0</td>\n",
       "      <td>0</td>\n",
       "      <td>morning</td>\n",
       "      <td>1</td>\n",
       "      <td>week1</td>\n",
       "    </tr>\n",
       "    <tr>\n",
       "      <th>183411</th>\n",
       "      <td>271</td>\n",
       "      <td>2019-02-01 00:00:20.636</td>\n",
       "      <td>2019-02-01 00:04:52.058</td>\n",
       "      <td>24.0</td>\n",
       "      <td>Spear St at Folsom St</td>\n",
       "      <td>37.789677</td>\n",
       "      <td>-122.390428</td>\n",
       "      <td>37.0</td>\n",
       "      <td>2nd St at Folsom St</td>\n",
       "      <td>37.785000</td>\n",
       "      <td>...</td>\n",
       "      <td>1989.0</td>\n",
       "      <td>Male</td>\n",
       "      <td>No</td>\n",
       "      <td>30.0</td>\n",
       "      <td>0.075278</td>\n",
       "      <td>0</td>\n",
       "      <td>0</td>\n",
       "      <td>morning</td>\n",
       "      <td>1</td>\n",
       "      <td>week1</td>\n",
       "    </tr>\n",
       "  </tbody>\n",
       "</table>\n",
       "<p>174952 rows × 23 columns</p>\n",
       "</div>"
      ],
      "text/plain": [
       "        duration_sec              start_time                end_time  \\\n",
       "0              52185 2019-02-28 17:32:10.145 2019-03-01 08:01:55.975   \n",
       "2              61854 2019-02-28 12:13:13.218 2019-03-01 05:24:08.146   \n",
       "3              36490 2019-02-28 17:54:26.010 2019-03-01 04:02:36.842   \n",
       "4               1585 2019-02-28 23:54:18.549 2019-03-01 00:20:44.074   \n",
       "5               1793 2019-02-28 23:49:58.632 2019-03-01 00:19:51.760   \n",
       "...              ...                     ...                     ...   \n",
       "183407           480 2019-02-01 00:04:49.724 2019-02-01 00:12:50.034   \n",
       "183408           313 2019-02-01 00:05:34.744 2019-02-01 00:10:48.502   \n",
       "183409           141 2019-02-01 00:06:05.549 2019-02-01 00:08:27.220   \n",
       "183410           139 2019-02-01 00:05:34.360 2019-02-01 00:07:54.287   \n",
       "183411           271 2019-02-01 00:00:20.636 2019-02-01 00:04:52.058   \n",
       "\n",
       "        start_station_id                                start_station_name  \\\n",
       "0                   21.0  Montgomery St BART Station (Market St at 2nd St)   \n",
       "2                   86.0                           Market St at Dolores St   \n",
       "3                  375.0                           Grove St at Masonic Ave   \n",
       "4                    7.0                               Frank H Ogawa Plaza   \n",
       "5                   93.0                      4th St at Mission Bay Blvd S   \n",
       "...                  ...                                               ...   \n",
       "183407              27.0                           Beale St at Harrison St   \n",
       "183408              21.0  Montgomery St BART Station (Market St at 2nd St)   \n",
       "183409             278.0                            The Alameda at Bush St   \n",
       "183410             220.0                       San Pablo Ave at MLK Jr Way   \n",
       "183411              24.0                             Spear St at Folsom St   \n",
       "\n",
       "        start_station_latitude  start_station_longitude  end_station_id  \\\n",
       "0                    37.789625              -122.400811            13.0   \n",
       "2                    37.769305              -122.426826             3.0   \n",
       "3                    37.774836              -122.446546            70.0   \n",
       "4                    37.804562              -122.271738           222.0   \n",
       "5                    37.770407              -122.391198           323.0   \n",
       "...                        ...                      ...             ...   \n",
       "183407               37.788059              -122.391865           324.0   \n",
       "183408               37.789625              -122.400811            66.0   \n",
       "183409               37.331932              -121.904888           277.0   \n",
       "183410               37.811351              -122.273422           216.0   \n",
       "183411               37.789677              -122.390428            37.0   \n",
       "\n",
       "                                    end_station_name  end_station_latitude  \\\n",
       "0                     Commercial St at Montgomery St             37.794231   \n",
       "2       Powell St BART Station (Market St at 4th St)             37.786375   \n",
       "3                             Central Ave at Fell St             37.773311   \n",
       "4                              10th Ave at E 15th St             37.792714   \n",
       "5                                 Broadway at Kearny             37.798014   \n",
       "...                                              ...                   ...   \n",
       "183407           Union Square (Powell St at Post St)             37.788300   \n",
       "183408                         3rd St at Townsend St             37.778742   \n",
       "183409                     Morrison Ave at Julian St             37.333658   \n",
       "183410                      San Pablo Ave at 27th St             37.817827   \n",
       "183411                           2nd St at Folsom St             37.785000   \n",
       "\n",
       "        ...  member_birth_year  member_gender bike_share_for_all_trip   Age  \\\n",
       "0       ...             1984.0           Male                      No  35.0   \n",
       "2       ...             1972.0           Male                      No  47.0   \n",
       "3       ...             1989.0          Other                      No  30.0   \n",
       "4       ...             1974.0           Male                     Yes  45.0   \n",
       "5       ...             1959.0           Male                      No  60.0   \n",
       "...     ...                ...            ...                     ...   ...   \n",
       "183407  ...             1996.0           Male                      No  23.0   \n",
       "183408  ...             1984.0           Male                      No  35.0   \n",
       "183409  ...             1990.0           Male                     Yes  29.0   \n",
       "183410  ...             1988.0           Male                      No  31.0   \n",
       "183411  ...             1989.0           Male                      No  30.0   \n",
       "\n",
       "       duration_hours start_hour  end_hour  period_day  day  week_num  \n",
       "0           14.495833         17         8   afternoon   28     week4  \n",
       "2           17.181667         12         5   afternoon   28     week4  \n",
       "3           10.136111         17         4   afternoon   28     week4  \n",
       "4            0.440278         23         0       night   28     week4  \n",
       "5            0.498056         23         0       night   28     week4  \n",
       "...               ...        ...       ...         ...  ...       ...  \n",
       "183407       0.133333          0         0     morning    1     week1  \n",
       "183408       0.086944          0         0     morning    1     week1  \n",
       "183409       0.039167          0         0     morning    1     week1  \n",
       "183410       0.038611          0         0     morning    1     week1  \n",
       "183411       0.075278          0         0     morning    1     week1  \n",
       "\n",
       "[174952 rows x 23 columns]"
      ]
     },
     "execution_count": 22,
     "metadata": {},
     "output_type": "execute_result"
    }
   ],
   "source": [
    "#Remonving any Null values in the data set\n",
    "df.dropna()"
   ]
  },
  {
   "cell_type": "markdown",
   "metadata": {
    "slideshow": {
     "slide_type": "skip"
    }
   },
   "source": [
    "# Univariant Exploration :"
   ]
  },
  {
   "cell_type": "markdown",
   "metadata": {
    "slideshow": {
     "slide_type": "skip"
    }
   },
   "source": [
    "**Q1: Which group of people come more than another one? is it company's subscriber or regular customer?**"
   ]
  },
  {
   "cell_type": "code",
   "execution_count": 23,
   "metadata": {
    "slideshow": {
     "slide_type": "skip"
    }
   },
   "outputs": [
    {
     "data": {
      "image/png": "[encoded data removed]",
      "text/plain": [
       "<Figure size 432x288 with 1 Axes>"
      ]
     },
     "metadata": {
      "needs_background": "light"
     },
     "output_type": "display_data"
    }
   ],
   "source": [
    "base_color = sb.color_palette()[5]\n",
    "sb.countplot(data = df , x = 'user_type', color = base_color)\n",
    "plt.title('User type counts');"
   ]
  },
  {
   "cell_type": "markdown",
   "metadata": {
    "slideshow": {
     "slide_type": "skip"
    }
   },
   "source": [
    "**As shown above, most of the riders was subscribers of the company.**"
   ]
  },
  {
   "cell_type": "markdown",
   "metadata": {
    "slideshow": {
     "slide_type": "skip"
    }
   },
   "source": [
    "**Q2:At usual basis, who is ride bikes more frequently?**"
   ]
  },
  {
   "cell_type": "code",
   "execution_count": 24,
   "metadata": {
    "slideshow": {
     "slide_type": "skip"
    }
   },
   "outputs": [
    {
     "data": {
      "text/plain": [
       "Male      130651\n",
       "Female     40844\n",
       "Other       3652\n",
       "Name: member_gender, dtype: int64"
      ]
     },
     "execution_count": 24,
     "metadata": {},
     "output_type": "execute_result"
    }
   ],
   "source": [
    "df['member_gender'].value_counts()"
   ]
  },
  {
   "cell_type": "code",
   "execution_count": 25,
   "metadata": {
    "slideshow": {
     "slide_type": "skip"
    }
   },
   "outputs": [
    {
     "data": {
      "image/png": "[encoded data removed]",
      "text/plain": [
       "<Figure size 432x288 with 1 Axes>"
      ]
     },
     "metadata": {},
     "output_type": "display_data"
    }
   ],
   "source": [
    "sorted_counts = df['member_gender'].value_counts()\n",
    "\n",
    "plt.pie(sorted_counts, labels = sorted_counts.index, startangle = 90,\n",
    "        counterclock = False, wedgeprops = {'width' : 0.6}, autopct='%1.1f%%');\n",
    "plt.axis('equal') \n",
    "plt.title('Gender counts');\n"
   ]
  },
  {
   "cell_type": "markdown",
   "metadata": {
    "slideshow": {
     "slide_type": "notes"
    }
   },
   "source": [
    "**74% of riders were male. However, only 23 were female and 2% from other.**"
   ]
  },
  {
   "cell_type": "markdown",
   "metadata": {
    "slideshow": {
     "slide_type": "skip"
    }
   },
   "source": [
    "**Q3:How much is the average total seconds for riding a bike?**"
   ]
  },
  {
   "cell_type": "code",
   "execution_count": 26,
   "metadata": {
    "slideshow": {
     "slide_type": "skip"
    }
   },
   "outputs": [
    {
     "data": {
      "image/png": "[encoded data removed]",
      "text/plain": [
       "<Figure size 432x288 with 1 Axes>"
      ]
     },
     "metadata": {
      "needs_background": "light"
     },
     "output_type": "display_data"
    }
   ],
   "source": [
    "bins = np.arange(0, df['duration_sec'].max() +100 ,100)\n",
    "plt.hist(data = df , x = 'duration_sec', bins = bins)\n",
    "plt.xlabel('Duration of Rides in seconds');\n",
    "plt.ylabel('Counts of rides');\n",
    "plt.title('The distribution of Duration in seconds for Bike Rides', fontsize = 14);\n",
    "plt.xlim(0, 2000);"
   ]
  },
  {
   "cell_type": "markdown",
   "metadata": {
    "slideshow": {
     "slide_type": "skip"
    }
   },
   "source": [
    "**The data is right skewed. with the maximum of number of rides (25000) with 300 sec then it is gradually decreased**"
   ]
  },
  {
   "cell_type": "markdown",
   "metadata": {
    "slideshow": {
     "slide_type": "skip"
    }
   },
   "source": [
    "# Bivariant Exploration :"
   ]
  },
  {
   "cell_type": "markdown",
   "metadata": {
    "slideshow": {
     "slide_type": "skip"
    }
   },
   "source": [
    "**Q1:Is there any relationship between gender and subscribtion?** "
   ]
  },
  {
   "cell_type": "code",
   "execution_count": 27,
   "metadata": {
    "slideshow": {
     "slide_type": "skip"
    }
   },
   "outputs": [
    {
     "data": {
      "text/plain": [
       "''"
      ]
     },
     "execution_count": 27,
     "metadata": {},
     "output_type": "execute_result"
    },
    {
     "data": {
      "image/png": "[encoded data removed]",
      "text/plain": [
       "<Figure size 1058.4x595.44 with 1 Axes>"
      ]
     },
     "metadata": {
      "needs_background": "light"
     },
     "output_type": "display_data"
    }
   ],
   "source": [
    "plt.figure(figsize = (14.7 ,8.27))\n",
    "sb.countplot(data = df , x = 'member_gender' , hue = 'user_type')\n",
    "plt.xticks(rotation = 0)\n",
    "plt.title('Gender VS User type')\n",
    "plt.xlabel('Gender'.title(),fontsize = 10 ,weight = 'bold')\n",
    "plt.xlabel('Frequency'.title(),fontsize = 10 ,weight = 'bold')\n",
    "plt.legend(loc = 'center left',bbox_to_anchor =(1,0.5), title = 'User Type', title_fontsize = 12)\n",
    ";"
   ]
  },
  {
   "cell_type": "markdown",
   "metadata": {
    "slideshow": {
     "slide_type": "skip"
    }
   },
   "source": [
    "**Male subscriber more than female subscriber**"
   ]
  },
  {
   "cell_type": "markdown",
   "metadata": {
    "slideshow": {
     "slide_type": "slide"
    }
   },
   "source": [
    "**Q2:Is there any relationship between the age of the person and duration of riding a bike?**"
   ]
  },
  {
   "cell_type": "code",
   "execution_count": 28,
   "metadata": {
    "slideshow": {
     "slide_type": "subslide"
    }
   },
   "outputs": [
    {
     "data": {
      "image/png": "[encoded data removed]",
      "text/plain": [
       "<Figure size 1080x504 with 1 Axes>"
      ]
     },
     "metadata": {
      "needs_background": "light"
     },
     "output_type": "display_data"
    }
   ],
   "source": [
    "plt.figure(figsize = (15, 7))\n",
    "plt.scatter(data = df, x = 'Age', y = 'duration_hours' , alpha= 1);\n",
    "xaxis = plt.gca()\n",
    "xaxis.set_xlim([20,90])\n",
    "plt.style.use('seaborn')\n",
    "plt.xlabel('Duration in hours')\n",
    "plt.ylabel('Age')\n",
    "plt.title('Age VS Duration in hours',fontsize = 18)\n",
    "plt.show();"
   ]
  },
  {
   "cell_type": "markdown",
   "metadata": {
    "slideshow": {
     "slide_type": "subslide"
    }
   },
   "source": [
    "**Interpretation: People around age 30 tend to take the longest rides. Also; the older they became, the less ride duration they did.**"
   ]
  },
  {
   "cell_type": "markdown",
   "metadata": {
    "slideshow": {
     "slide_type": "skip"
    }
   },
   "source": [
    "**Q3:Is there any relationship between the period of the day and duration of riding a bike?**\n"
   ]
  },
  {
   "cell_type": "code",
   "execution_count": 29,
   "metadata": {
    "slideshow": {
     "slide_type": "skip"
    }
   },
   "outputs": [
    {
     "data": {
      "text/plain": [
       "<matplotlib.axes._subplots.AxesSubplot at 0x12085c3a0>"
      ]
     },
     "execution_count": 29,
     "metadata": {},
     "output_type": "execute_result"
    },
    {
     "data": {
      "image/png": "[encoded data removed]",
      "text/plain": [
       "<Figure size 576x396 with 1 Axes>"
      ]
     },
     "metadata": {},
     "output_type": "display_data"
    }
   ],
   "source": [
    "sb.boxplot(data = df ,x = 'period_day' ,y = 'duration_hours',showfliers=False)\n",
    "sb.pointplot(data = df ,x = 'period_day' ,y = 'duration_hours')"
   ]
  },
  {
   "cell_type": "markdown",
   "metadata": {
    "slideshow": {
     "slide_type": "skip"
    }
   },
   "source": [
    "**The longest rides took place at afternoon period with a wider range of duration as well.**"
   ]
  },
  {
   "cell_type": "markdown",
   "metadata": {
    "slideshow": {
     "slide_type": "skip"
    }
   },
   "source": [
    "**Q4:How many people came at (morning , afternoon , night) from each gender?**"
   ]
  },
  {
   "cell_type": "code",
   "execution_count": 30,
   "metadata": {
    "slideshow": {
     "slide_type": "skip"
    }
   },
   "outputs": [
    {
     "data": {
      "text/plain": [
       "<matplotlib.axes._subplots.AxesSubplot at 0x109459340>"
      ]
     },
     "execution_count": 30,
     "metadata": {},
     "output_type": "execute_result"
    },
    {
     "data": {
      "image/png": "[encoded data removed]",
      "text/plain": [
       "<Figure size 576x396 with 1 Axes>"
      ]
     },
     "metadata": {},
     "output_type": "display_data"
    }
   ],
   "source": [
    "sb.countplot(data = df , x = 'period_day', hue = 'member_gender' )"
   ]
  },
  {
   "cell_type": "markdown",
   "metadata": {
    "slideshow": {
     "slide_type": "skip"
    }
   },
   "source": [
    "**Male riders is the dominant majority for all of day periods especially at afternoon in contrast with other periods.**"
   ]
  },
  {
   "cell_type": "code",
   "execution_count": 31,
   "metadata": {
    "slideshow": {
     "slide_type": "skip"
    }
   },
   "outputs": [
    {
     "data": {
      "image/png": "[encoded data removed]",
      "text/plain": [
       "<Figure size 576x396 with 2 Axes>"
      ]
     },
     "metadata": {},
     "output_type": "display_data"
    }
   ],
   "source": [
    "gvar = df.groupby(['period_day','member_gender']).size()\n",
    "gvar = gvar.reset_index(name = 'count')\n",
    "gvar = gvar.pivot(index = 'period_day' , columns = 'member_gender' , values = 'count')\n",
    "sb.heatmap(gvar, annot =True ,fmt = 'd');"
   ]
  },
  {
   "cell_type": "markdown",
   "metadata": {
    "slideshow": {
     "slide_type": "skip"
    }
   },
   "source": [
    "**The heat map tells the same story as the clustered bar chart.**"
   ]
  },
  {
   "cell_type": "markdown",
   "metadata": {
    "slideshow": {
     "slide_type": "skip"
    }
   },
   "source": [
    "# Multivariate Exploration :"
   ]
  },
  {
   "cell_type": "markdown",
   "metadata": {
    "slideshow": {
     "slide_type": "slide"
    }
   },
   "source": [
    "**Q1:For each week of february 2019, what period most often people went riding and what is the hourly duration for them?**"
   ]
  },
  {
   "cell_type": "code",
   "execution_count": 32,
   "metadata": {
    "slideshow": {
     "slide_type": "subslide"
    }
   },
   "outputs": [
    {
     "data": {
      "image/png": "[encoded data removed]",
      "text/plain": [
       "<Figure size 1058.4x595.44 with 1 Axes>"
      ]
     },
     "metadata": {},
     "output_type": "display_data"
    }
   ],
   "source": [
    "plt.figure(figsize = [14.70 , 8.27])\n",
    "sb.stripplot(data = df , hue = 'period_day', x = 'week_num' , y = 'duration_hours' ,jitter = 0.35 , dodge = True)\n",
    "plt.title('Trip Duration(hours) Against week and period of the day')\n",
    "plt.xlabel('Week number')\n",
    "plt.ylabel('Trip Duration(hours)')\n",
    "plt.show();"
   ]
  },
  {
   "cell_type": "markdown",
   "metadata": {
    "slideshow": {
     "slide_type": "subslide"
    }
   },
   "source": [
    "**Most of people had riding with more duration were concentrated in afternoon period especially in first and second weeks of February.**\n",
    "\n",
    "**Most of morning rides do not exceed 10 hours except for a few of them. However,the third week of february, the number of morning rides increased in compartion with the other weeks.**\n",
    "\n",
    "**In last week of february,number of night rides reached most bottom and usually that rides extended to 3 hours for all weeks. However,people began to increase the night rides duration in third week**\n",
    "\n",
    "**In general, rides less crowded in last week and more crowded in middle weeks**"
   ]
  },
  {
   "cell_type": "markdown",
   "metadata": {
    "slideshow": {
     "slide_type": "slide"
    }
   },
   "source": [
    "**Q2: For each week of february 2019 , what type of people most often went riding and what is the hourly duration for them?**"
   ]
  },
  {
   "cell_type": "code",
   "execution_count": 33,
   "metadata": {
    "slideshow": {
     "slide_type": "subslide"
    }
   },
   "outputs": [
    {
     "data": {
      "image/png": "[encoded data removed]",
      "text/plain": [
       "<Figure size 1058.4x595.44 with 1 Axes>"
      ]
     },
     "metadata": {},
     "output_type": "display_data"
    }
   ],
   "source": [
    "plt.figure(figsize = [14.70 , 8.27])\n",
    "sb.stripplot(data = df , hue = 'user_type', x = 'week_num' , y = 'duration_hours' ,jitter = 0.35 , dodge = True)\n",
    "plt.title('Ride Duration(hours) Against week number and user type')\n",
    "plt.xlabel('Week number')\n",
    "plt.ylabel('Trip Duration(hours)')\n",
    "plt.show();"
   ]
  },
  {
   "cell_type": "markdown",
   "metadata": {
    "slideshow": {
     "slide_type": "subslide"
    }
   },
   "source": [
    "**Ride duration for both customer and subscriber in most weeks were approximatly evenly distributed.** \n",
    "\n",
    "**However, it seems that in third week of februay number of customers with high length of duration were more than subscribers.**\n",
    "**Less duration for both types in last week till 1 hour only.**"
   ]
  },
  {
   "cell_type": "markdown",
   "metadata": {
    "slideshow": {
     "slide_type": "slide"
    }
   },
   "source": [
    "**Q3: what is common start hour across user type in a day for each gender?**"
   ]
  },
  {
   "cell_type": "code",
   "execution_count": 34,
   "metadata": {
    "slideshow": {
     "slide_type": "subslide"
    }
   },
   "outputs": [
    {
     "data": {
      "image/png": "[encoded data removed]",
      "text/plain": [
       "<Figure size 657.5x576 with 2 Axes>"
      ]
     },
     "metadata": {},
     "output_type": "display_data"
    }
   ],
   "source": [
    "sb.catplot(data=df,x='start_hour',col='user_type', \n",
    "           hue='member_gender', col_wrap = 1, \n",
    "           height = 4, aspect=2, \n",
    "           sharey=False, kind='count')\n",
    "plt.xlabel('Starting hours')\n",
    "plt.title('The relationship between start hour across user type & gender')\n",
    "plt.show();"
   ]
  },
  {
   "cell_type": "markdown",
   "metadata": {
    "slideshow": {
     "slide_type": "subslide"
    }
   },
   "source": [
    "**In average, customers and subscribers like to start riding at 17 o'clock.then people like to went riding at 8 o'clock but subscribers more than customer**"
   ]
  },
  {
   "cell_type": "markdown",
   "metadata": {
    "slideshow": {
     "slide_type": "skip"
    }
   },
   "source": [
    "**Q4: what is common end hour across user type in a day for each gender?**"
   ]
  },
  {
   "cell_type": "code",
   "execution_count": 35,
   "metadata": {
    "scrolled": false,
    "slideshow": {
     "slide_type": "skip"
    }
   },
   "outputs": [
    {
     "data": {
      "image/png": "[encoded data removed]",
      "text/plain": [
       "<Figure size 513.5x864 with 2 Axes>"
      ]
     },
     "metadata": {},
     "output_type": "display_data"
    }
   ],
   "source": [
    "sb.catplot(data=df,x='end_hour',col='user_type', \n",
    "           hue='member_gender', col_wrap = 1, \n",
    "           height = 6, aspect=1, \n",
    "           sharey=False, kind='count')\n",
    "plt.xlabel('end hours')\n",
    "plt.title('The relationship between end hour across user type & gender')\n",
    "plt.show();"
   ]
  },
  {
   "cell_type": "markdown",
   "metadata": {
    "slideshow": {
     "slide_type": "skip"
    }
   },
   "source": [
    "**In average, customers and subscribers like to end riding at 17 o'clock but customers more than subscribers.**\n",
    "\n",
    "**People like to finish riding at 8 o'clock then 9 o'clock but subscribers more than customers.**"
   ]
  },
  {
   "cell_type": "markdown",
   "metadata": {
    "slideshow": {
     "slide_type": "slide"
    }
   },
   "source": [
    "# End of Notebook"
   ]
  }
 ],
 "metadata": {
  "celltoolbar": "Slideshow",
  "kernelspec": {
   "display_name": "Python 3",
   "language": "python",
   "name": "python3"
  },
  "language_info": {
   "codemirror_mode": {
    "name": "ipython",
    "version": 3
   },
   "file_extension": ".py",
   "mimetype": "text/x-python",
   "name": "python",
   "nbconvert_exporter": "python",
   "pygments_lexer": "ipython3",
   "version": "3.8.3"
  }
 },
 "nbformat": 4,
 "nbformat_minor": 4
}
